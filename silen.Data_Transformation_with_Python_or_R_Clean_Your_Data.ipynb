{
  "nbformat": 4,
  "nbformat_minor": 0,
  "metadata": {
    "colab": {
      "provenance": []
    },
    "kernelspec": {
      "name": "python3",
      "display_name": "Python 3"
    },
    "language_info": {
      "name": "python"
    }
  },
  "cells": [
    {
      "cell_type": "code",
      "execution_count": 40,
      "metadata": {
        "id": "nIEBHoIr1ID_"
      },
      "outputs": [],
      "source": [
        "import pandas as pd\n",
        "import numpy as np\n",
        "import matplotlib.pyplot as plt\n",
        "import seaborn as sns"
      ]
    },
    {
      "cell_type": "code",
      "source": [
        "df = pd.read_csv('day wise covid cases.csv')"
      ],
      "metadata": {
        "id": "g1v2zXvm5ySh"
      },
      "execution_count": 41,
      "outputs": []
    },
    {
      "cell_type": "markdown",
      "source": [
        "first few rows of dataset"
      ],
      "metadata": {
        "id": "4PLMNNOQ6Bb3"
      }
    },
    {
      "cell_type": "code",
      "source": [
        "print(df.head())\n",
        "print(df.info())\n",
        "print(df.describe())"
      ],
      "metadata": {
        "colab": {
          "base_uri": "https://localhost:8080/"
        },
        "id": "pK7sAquS6IL8",
        "outputId": "df356113-db7b-408a-8099-0d084dbe95ee"
      },
      "execution_count": 42,
      "outputs": [
        {
          "output_type": "stream",
          "name": "stdout",
          "text": [
            "         Date  Confirmed  Deaths  Recovered  Active  New cases  New deaths  \\\n",
            "0  22-01-2020        555      17         28     510          0           0   \n",
            "1  23-01-2020        654      18         30     606         99           1   \n",
            "2  24-01-2020        941      26         36     879        287           8   \n",
            "3  25-01-2020       1434      42         39    1353        493          16   \n",
            "4  26-01-2020       2118      56         52    2010        684          14   \n",
            "\n",
            "   New recovered  Deaths / 100 Cases  Recovered / 100 Cases  \\\n",
            "0              0                3.06                   5.05   \n",
            "1              2                2.75                   4.59   \n",
            "2              6                2.76                   3.83   \n",
            "3              3                2.93                   2.72   \n",
            "4             13                2.64                   2.46   \n",
            "\n",
            "   Deaths / 100 Recovered  No. of countries  \n",
            "0                   60.71                 6  \n",
            "1                   60.00                 8  \n",
            "2                   72.22                 9  \n",
            "3                  107.69                11  \n",
            "4                  107.69                13  \n",
            "<class 'pandas.core.frame.DataFrame'>\n",
            "RangeIndex: 99 entries, 0 to 98\n",
            "Data columns (total 12 columns):\n",
            " #   Column                  Non-Null Count  Dtype  \n",
            "---  ------                  --------------  -----  \n",
            " 0   Date                    99 non-null     object \n",
            " 1   Confirmed               99 non-null     int64  \n",
            " 2   Deaths                  99 non-null     int64  \n",
            " 3   Recovered               99 non-null     int64  \n",
            " 4   Active                  99 non-null     int64  \n",
            " 5   New cases               99 non-null     int64  \n",
            " 6   New deaths              99 non-null     int64  \n",
            " 7   New recovered           99 non-null     int64  \n",
            " 8   Deaths / 100 Cases      99 non-null     float64\n",
            " 9   Recovered / 100 Cases   99 non-null     float64\n",
            " 10  Deaths / 100 Recovered  99 non-null     float64\n",
            " 11  No. of countries        99 non-null     int64  \n",
            "dtypes: float64(3), int64(8), object(1)\n",
            "memory usage: 9.4+ KB\n",
            "None\n",
            "          Confirmed         Deaths      Recovered        Active     New cases  \\\n",
            "count  9.900000e+01      99.000000      99.000000  9.900000e+01     99.000000   \n",
            "mean   7.154300e+05   45675.505051  181447.303030  4.883072e+05  32318.353535   \n",
            "std    9.663754e+05   68713.463709  250927.402425  6.504458e+05  35489.997974   \n",
            "min    5.550000e+02      17.000000      28.000000  5.100000e+02      0.000000   \n",
            "25%    6.982200e+04    1718.000000    9610.500000  4.245300e+04   2071.500000   \n",
            "50%    1.258530e+05    4604.000000   65113.000000  5.899600e+04   7663.000000   \n",
            "75%    1.228445e+06   70670.500000  247774.500000  9.100000e+05  72810.000000   \n",
            "max    3.185195e+06  228742.000000  925752.000000  2.030701e+06  96974.000000   \n",
            "\n",
            "        New deaths  New recovered  Deaths / 100 Cases  Recovered / 100 Cases  \\\n",
            "count    99.000000      99.000000           99.000000              99.000000   \n",
            "mean   2310.353535    9350.747475            4.223535              24.470909   \n",
            "std    2847.819894   11816.291484            1.726701              15.180579   \n",
            "min       0.000000       0.000000            2.040000               1.710000   \n",
            "25%      82.500000     892.000000            2.780000              13.755000   \n",
            "50%     305.000000    2605.000000            3.660000              23.320000   \n",
            "75%    5232.000000   16476.500000            5.755000              30.750000   \n",
            "max    8890.000000   49640.000000            7.180000              54.080000   \n",
            "\n",
            "       Deaths / 100 Recovered  No. of countries  \n",
            "count               99.000000         99.000000  \n",
            "mean                30.113636        106.141414  \n",
            "std                 28.502043         70.640800  \n",
            "min                  6.260000          6.000000  \n",
            "25%                 11.155000         27.000000  \n",
            "50%                 25.090000        111.000000  \n",
            "75%                 29.125000        181.000000  \n",
            "max                134.430000        184.000000  \n"
          ]
        }
      ]
    },
    {
      "cell_type": "markdown",
      "source": [
        "data type"
      ],
      "metadata": {
        "id": "E3blcHFW6QJh"
      }
    },
    {
      "cell_type": "code",
      "source": [
        "\n",
        "print(df.dtypes)"
      ],
      "metadata": {
        "colab": {
          "base_uri": "https://localhost:8080/"
        },
        "id": "hQzvNKGm6SWb",
        "outputId": "ac001fe7-d873-4a33-ed69-e038625b3c2a"
      },
      "execution_count": 43,
      "outputs": [
        {
          "output_type": "stream",
          "name": "stdout",
          "text": [
            "Date                       object\n",
            "Confirmed                   int64\n",
            "Deaths                      int64\n",
            "Recovered                   int64\n",
            "Active                      int64\n",
            "New cases                   int64\n",
            "New deaths                  int64\n",
            "New recovered               int64\n",
            "Deaths / 100 Cases        float64\n",
            "Recovered / 100 Cases     float64\n",
            "Deaths / 100 Recovered    float64\n",
            "No. of countries            int64\n",
            "dtype: object\n"
          ]
        }
      ]
    },
    {
      "cell_type": "code",
      "source": [
        "print(df.describe())"
      ],
      "metadata": {
        "colab": {
          "base_uri": "https://localhost:8080/"
        },
        "id": "V4mN1kp66doH",
        "outputId": "214c71e3-d0a3-4826-88b1-9e6687d61be3"
      },
      "execution_count": 44,
      "outputs": [
        {
          "output_type": "stream",
          "name": "stdout",
          "text": [
            "          Confirmed         Deaths      Recovered        Active     New cases  \\\n",
            "count  9.900000e+01      99.000000      99.000000  9.900000e+01     99.000000   \n",
            "mean   7.154300e+05   45675.505051  181447.303030  4.883072e+05  32318.353535   \n",
            "std    9.663754e+05   68713.463709  250927.402425  6.504458e+05  35489.997974   \n",
            "min    5.550000e+02      17.000000      28.000000  5.100000e+02      0.000000   \n",
            "25%    6.982200e+04    1718.000000    9610.500000  4.245300e+04   2071.500000   \n",
            "50%    1.258530e+05    4604.000000   65113.000000  5.899600e+04   7663.000000   \n",
            "75%    1.228445e+06   70670.500000  247774.500000  9.100000e+05  72810.000000   \n",
            "max    3.185195e+06  228742.000000  925752.000000  2.030701e+06  96974.000000   \n",
            "\n",
            "        New deaths  New recovered  Deaths / 100 Cases  Recovered / 100 Cases  \\\n",
            "count    99.000000      99.000000           99.000000              99.000000   \n",
            "mean   2310.353535    9350.747475            4.223535              24.470909   \n",
            "std    2847.819894   11816.291484            1.726701              15.180579   \n",
            "min       0.000000       0.000000            2.040000               1.710000   \n",
            "25%      82.500000     892.000000            2.780000              13.755000   \n",
            "50%     305.000000    2605.000000            3.660000              23.320000   \n",
            "75%    5232.000000   16476.500000            5.755000              30.750000   \n",
            "max    8890.000000   49640.000000            7.180000              54.080000   \n",
            "\n",
            "       Deaths / 100 Recovered  No. of countries  \n",
            "count               99.000000         99.000000  \n",
            "mean                30.113636        106.141414  \n",
            "std                 28.502043         70.640800  \n",
            "min                  6.260000          6.000000  \n",
            "25%                 11.155000         27.000000  \n",
            "50%                 25.090000        111.000000  \n",
            "75%                 29.125000        181.000000  \n",
            "max                134.430000        184.000000  \n"
          ]
        }
      ]
    },
    {
      "cell_type": "markdown",
      "source": [
        "missing value"
      ],
      "metadata": {
        "id": "RZLzcnjv6hLb"
      }
    },
    {
      "cell_type": "code",
      "source": [
        "print(\"Number of missing values in each column:\")\n",
        "print(df.isnull().sum())"
      ],
      "metadata": {
        "colab": {
          "base_uri": "https://localhost:8080/"
        },
        "id": "Q08UiTBd6jSV",
        "outputId": "3cb3dfd1-e42b-4406-a16e-9126b7eedd85"
      },
      "execution_count": 45,
      "outputs": [
        {
          "output_type": "stream",
          "name": "stdout",
          "text": [
            "Number of missing values in each column:\n",
            "Date                      0\n",
            "Confirmed                 0\n",
            "Deaths                    0\n",
            "Recovered                 0\n",
            "Active                    0\n",
            "New cases                 0\n",
            "New deaths                0\n",
            "New recovered             0\n",
            "Deaths / 100 Cases        0\n",
            "Recovered / 100 Cases     0\n",
            "Deaths / 100 Recovered    0\n",
            "No. of countries          0\n",
            "dtype: int64\n"
          ]
        }
      ]
    },
    {
      "cell_type": "markdown",
      "source": [
        "Drop un_needed columns"
      ],
      "metadata": {
        "id": "zpRBDffG9BBz"
      }
    },
    {
      "cell_type": "code",
      "source": [
        "df = df.drop(\"No. of countries\", axis=1)"
      ],
      "metadata": {
        "id": "yMnxE-mR-QEQ"
      },
      "execution_count": 46,
      "outputs": []
    },
    {
      "cell_type": "code",
      "source": [
        "df.columns"
      ],
      "metadata": {
        "colab": {
          "base_uri": "https://localhost:8080/"
        },
        "id": "FG2oLrp1-YVr",
        "outputId": "3b0e322d-bee0-43f6-8994-e932a16e2d88"
      },
      "execution_count": 47,
      "outputs": [
        {
          "output_type": "execute_result",
          "data": {
            "text/plain": [
              "Index(['Date', 'Confirmed', 'Deaths', 'Recovered', 'Active', 'New cases',\n",
              "       'New deaths', 'New recovered', 'Deaths / 100 Cases',\n",
              "       'Recovered / 100 Cases', 'Deaths / 100 Recovered'],\n",
              "      dtype='object')"
            ]
          },
          "metadata": {},
          "execution_count": 47
        }
      ]
    },
    {
      "cell_type": "markdown",
      "source": [
        "Transform data type"
      ],
      "metadata": {
        "id": "Uqr760j--1xo"
      }
    },
    {
      "cell_type": "code",
      "source": [
        "df['Date'] = pd.to_datetime(df['Date'], format='%d-%m-%Y')"
      ],
      "metadata": {
        "id": "Zyriq8eh-9O3"
      },
      "execution_count": 48,
      "outputs": []
    },
    {
      "cell_type": "code",
      "source": [
        "df.dtypes"
      ],
      "metadata": {
        "colab": {
          "base_uri": "https://localhost:8080/"
        },
        "id": "DRKm8Bev_C9h",
        "outputId": "459310e5-91e6-4290-c6d0-b80cefbdba2d"
      },
      "execution_count": 49,
      "outputs": [
        {
          "output_type": "execute_result",
          "data": {
            "text/plain": [
              "Date                      datetime64[ns]\n",
              "Confirmed                          int64\n",
              "Deaths                             int64\n",
              "Recovered                          int64\n",
              "Active                             int64\n",
              "New cases                          int64\n",
              "New deaths                         int64\n",
              "New recovered                      int64\n",
              "Deaths / 100 Cases               float64\n",
              "Recovered / 100 Cases            float64\n",
              "Deaths / 100 Recovered           float64\n",
              "dtype: object"
            ]
          },
          "metadata": {},
          "execution_count": 49
        }
      ]
    },
    {
      "cell_type": "markdown",
      "source": [
        "Rename columns"
      ],
      "metadata": {
        "id": "Nru_R2bH_h6r"
      }
    },
    {
      "cell_type": "code",
      "source": [
        "df = df.rename(columns={\n",
        "    'Confirmed': 'TotalConfirmed',\n",
        "    'Deaths': 'TotalDeaths',\n",
        "    'Recovered': 'TotalRecovered',\n",
        "    'Deaths / 100 Cases': 'DeathRate',\n",
        "    'Recovered / 100 Cases': 'RecoveryRate',\n",
        "    'Deaths / 100 Recovered': 'MortalityRate'\n",
        "})"
      ],
      "metadata": {
        "id": "pOUq1xcn_lGa"
      },
      "execution_count": 50,
      "outputs": []
    },
    {
      "cell_type": "code",
      "source": [
        "df.rename"
      ],
      "metadata": {
        "colab": {
          "base_uri": "https://localhost:8080/"
        },
        "id": "vGNoOe0Y_slH",
        "outputId": "abb261ea-4bf8-4c34-f6db-dbc9197bc5f1"
      },
      "execution_count": 51,
      "outputs": [
        {
          "output_type": "execute_result",
          "data": {
            "text/plain": [
              "<bound method DataFrame.rename of          Date  TotalConfirmed  TotalDeaths  TotalRecovered   Active  \\\n",
              "0  2020-01-22             555           17              28      510   \n",
              "1  2020-01-23             654           18              30      606   \n",
              "2  2020-01-24             941           26              36      879   \n",
              "3  2020-01-25            1434           42              39     1353   \n",
              "4  2020-01-26            2118           56              52     2010   \n",
              "..        ...             ...          ...             ...      ...   \n",
              "94 2020-04-25         2891199       206979          798239  1885981   \n",
              "95 2020-04-26         2964146       210862          825969  1927315   \n",
              "96 2020-04-27         3032850       215511          852382  1964957   \n",
              "97 2020-04-28         3108149       221974          884680  2001495   \n",
              "98 2020-04-29         3185195       228742          925752  2030701   \n",
              "\n",
              "    New cases  New deaths  New recovered  DeathRate  RecoveryRate  \\\n",
              "0           0           0              0       3.06          5.05   \n",
              "1          99           1              2       2.75          4.59   \n",
              "2         287           8              6       2.76          3.83   \n",
              "3         493          16              3       2.93          2.72   \n",
              "4         684          14             13       2.64          2.46   \n",
              "..        ...         ...            ...        ...           ...   \n",
              "94      84932        5578          26910       7.16         27.61   \n",
              "95      72948        3883          27730       7.11         27.87   \n",
              "96      68704        4649          26413       7.11         28.10   \n",
              "97      75404        6463          32298       7.14         28.46   \n",
              "98      79558        6768          41072       7.18         29.06   \n",
              "\n",
              "    MortalityRate  \n",
              "0           60.71  \n",
              "1           60.00  \n",
              "2           72.22  \n",
              "3          107.69  \n",
              "4          107.69  \n",
              "..            ...  \n",
              "94          25.93  \n",
              "95          25.53  \n",
              "96          25.28  \n",
              "97          25.09  \n",
              "98          24.71  \n",
              "\n",
              "[99 rows x 11 columns]>"
            ]
          },
          "metadata": {},
          "execution_count": 51
        }
      ]
    },
    {
      "cell_type": "markdown",
      "source": [
        "create a calculated field"
      ],
      "metadata": {
        "id": "EU3BBt5GAGDT"
      }
    },
    {
      "cell_type": "code",
      "source": [
        "df['Active'] = df['TotalConfirmed'] - df['TotalDeaths'] - df['TotalRecovered']\n",
        "df"
      ],
      "metadata": {
        "colab": {
          "base_uri": "https://localhost:8080/",
          "height": 423
        },
        "id": "xqaCJmzSAFnK",
        "outputId": "df005a27-7a19-4b83-ab99-ca1ef337ea38"
      },
      "execution_count": 52,
      "outputs": [
        {
          "output_type": "execute_result",
          "data": {
            "text/plain": [
              "         Date  TotalConfirmed  TotalDeaths  TotalRecovered   Active  \\\n",
              "0  2020-01-22             555           17              28      510   \n",
              "1  2020-01-23             654           18              30      606   \n",
              "2  2020-01-24             941           26              36      879   \n",
              "3  2020-01-25            1434           42              39     1353   \n",
              "4  2020-01-26            2118           56              52     2010   \n",
              "..        ...             ...          ...             ...      ...   \n",
              "94 2020-04-25         2891199       206979          798239  1885981   \n",
              "95 2020-04-26         2964146       210862          825969  1927315   \n",
              "96 2020-04-27         3032850       215511          852382  1964957   \n",
              "97 2020-04-28         3108149       221974          884680  2001495   \n",
              "98 2020-04-29         3185195       228742          925752  2030701   \n",
              "\n",
              "    New cases  New deaths  New recovered  DeathRate  RecoveryRate  \\\n",
              "0           0           0              0       3.06          5.05   \n",
              "1          99           1              2       2.75          4.59   \n",
              "2         287           8              6       2.76          3.83   \n",
              "3         493          16              3       2.93          2.72   \n",
              "4         684          14             13       2.64          2.46   \n",
              "..        ...         ...            ...        ...           ...   \n",
              "94      84932        5578          26910       7.16         27.61   \n",
              "95      72948        3883          27730       7.11         27.87   \n",
              "96      68704        4649          26413       7.11         28.10   \n",
              "97      75404        6463          32298       7.14         28.46   \n",
              "98      79558        6768          41072       7.18         29.06   \n",
              "\n",
              "    MortalityRate  \n",
              "0           60.71  \n",
              "1           60.00  \n",
              "2           72.22  \n",
              "3          107.69  \n",
              "4          107.69  \n",
              "..            ...  \n",
              "94          25.93  \n",
              "95          25.53  \n",
              "96          25.28  \n",
              "97          25.09  \n",
              "98          24.71  \n",
              "\n",
              "[99 rows x 11 columns]"
            ],
            "text/html": [
              "\n",
              "  <div id=\"df-eb3dd9c9-ef0a-47f5-a3ea-c530b954f3bb\" class=\"colab-df-container\">\n",
              "    <div>\n",
              "<style scoped>\n",
              "    .dataframe tbody tr th:only-of-type {\n",
              "        vertical-align: middle;\n",
              "    }\n",
              "\n",
              "    .dataframe tbody tr th {\n",
              "        vertical-align: top;\n",
              "    }\n",
              "\n",
              "    .dataframe thead th {\n",
              "        text-align: right;\n",
              "    }\n",
              "</style>\n",
              "<table border=\"1\" class=\"dataframe\">\n",
              "  <thead>\n",
              "    <tr style=\"text-align: right;\">\n",
              "      <th></th>\n",
              "      <th>Date</th>\n",
              "      <th>TotalConfirmed</th>\n",
              "      <th>TotalDeaths</th>\n",
              "      <th>TotalRecovered</th>\n",
              "      <th>Active</th>\n",
              "      <th>New cases</th>\n",
              "      <th>New deaths</th>\n",
              "      <th>New recovered</th>\n",
              "      <th>DeathRate</th>\n",
              "      <th>RecoveryRate</th>\n",
              "      <th>MortalityRate</th>\n",
              "    </tr>\n",
              "  </thead>\n",
              "  <tbody>\n",
              "    <tr>\n",
              "      <th>0</th>\n",
              "      <td>2020-01-22</td>\n",
              "      <td>555</td>\n",
              "      <td>17</td>\n",
              "      <td>28</td>\n",
              "      <td>510</td>\n",
              "      <td>0</td>\n",
              "      <td>0</td>\n",
              "      <td>0</td>\n",
              "      <td>3.06</td>\n",
              "      <td>5.05</td>\n",
              "      <td>60.71</td>\n",
              "    </tr>\n",
              "    <tr>\n",
              "      <th>1</th>\n",
              "      <td>2020-01-23</td>\n",
              "      <td>654</td>\n",
              "      <td>18</td>\n",
              "      <td>30</td>\n",
              "      <td>606</td>\n",
              "      <td>99</td>\n",
              "      <td>1</td>\n",
              "      <td>2</td>\n",
              "      <td>2.75</td>\n",
              "      <td>4.59</td>\n",
              "      <td>60.00</td>\n",
              "    </tr>\n",
              "    <tr>\n",
              "      <th>2</th>\n",
              "      <td>2020-01-24</td>\n",
              "      <td>941</td>\n",
              "      <td>26</td>\n",
              "      <td>36</td>\n",
              "      <td>879</td>\n",
              "      <td>287</td>\n",
              "      <td>8</td>\n",
              "      <td>6</td>\n",
              "      <td>2.76</td>\n",
              "      <td>3.83</td>\n",
              "      <td>72.22</td>\n",
              "    </tr>\n",
              "    <tr>\n",
              "      <th>3</th>\n",
              "      <td>2020-01-25</td>\n",
              "      <td>1434</td>\n",
              "      <td>42</td>\n",
              "      <td>39</td>\n",
              "      <td>1353</td>\n",
              "      <td>493</td>\n",
              "      <td>16</td>\n",
              "      <td>3</td>\n",
              "      <td>2.93</td>\n",
              "      <td>2.72</td>\n",
              "      <td>107.69</td>\n",
              "    </tr>\n",
              "    <tr>\n",
              "      <th>4</th>\n",
              "      <td>2020-01-26</td>\n",
              "      <td>2118</td>\n",
              "      <td>56</td>\n",
              "      <td>52</td>\n",
              "      <td>2010</td>\n",
              "      <td>684</td>\n",
              "      <td>14</td>\n",
              "      <td>13</td>\n",
              "      <td>2.64</td>\n",
              "      <td>2.46</td>\n",
              "      <td>107.69</td>\n",
              "    </tr>\n",
              "    <tr>\n",
              "      <th>...</th>\n",
              "      <td>...</td>\n",
              "      <td>...</td>\n",
              "      <td>...</td>\n",
              "      <td>...</td>\n",
              "      <td>...</td>\n",
              "      <td>...</td>\n",
              "      <td>...</td>\n",
              "      <td>...</td>\n",
              "      <td>...</td>\n",
              "      <td>...</td>\n",
              "      <td>...</td>\n",
              "    </tr>\n",
              "    <tr>\n",
              "      <th>94</th>\n",
              "      <td>2020-04-25</td>\n",
              "      <td>2891199</td>\n",
              "      <td>206979</td>\n",
              "      <td>798239</td>\n",
              "      <td>1885981</td>\n",
              "      <td>84932</td>\n",
              "      <td>5578</td>\n",
              "      <td>26910</td>\n",
              "      <td>7.16</td>\n",
              "      <td>27.61</td>\n",
              "      <td>25.93</td>\n",
              "    </tr>\n",
              "    <tr>\n",
              "      <th>95</th>\n",
              "      <td>2020-04-26</td>\n",
              "      <td>2964146</td>\n",
              "      <td>210862</td>\n",
              "      <td>825969</td>\n",
              "      <td>1927315</td>\n",
              "      <td>72948</td>\n",
              "      <td>3883</td>\n",
              "      <td>27730</td>\n",
              "      <td>7.11</td>\n",
              "      <td>27.87</td>\n",
              "      <td>25.53</td>\n",
              "    </tr>\n",
              "    <tr>\n",
              "      <th>96</th>\n",
              "      <td>2020-04-27</td>\n",
              "      <td>3032850</td>\n",
              "      <td>215511</td>\n",
              "      <td>852382</td>\n",
              "      <td>1964957</td>\n",
              "      <td>68704</td>\n",
              "      <td>4649</td>\n",
              "      <td>26413</td>\n",
              "      <td>7.11</td>\n",
              "      <td>28.10</td>\n",
              "      <td>25.28</td>\n",
              "    </tr>\n",
              "    <tr>\n",
              "      <th>97</th>\n",
              "      <td>2020-04-28</td>\n",
              "      <td>3108149</td>\n",
              "      <td>221974</td>\n",
              "      <td>884680</td>\n",
              "      <td>2001495</td>\n",
              "      <td>75404</td>\n",
              "      <td>6463</td>\n",
              "      <td>32298</td>\n",
              "      <td>7.14</td>\n",
              "      <td>28.46</td>\n",
              "      <td>25.09</td>\n",
              "    </tr>\n",
              "    <tr>\n",
              "      <th>98</th>\n",
              "      <td>2020-04-29</td>\n",
              "      <td>3185195</td>\n",
              "      <td>228742</td>\n",
              "      <td>925752</td>\n",
              "      <td>2030701</td>\n",
              "      <td>79558</td>\n",
              "      <td>6768</td>\n",
              "      <td>41072</td>\n",
              "      <td>7.18</td>\n",
              "      <td>29.06</td>\n",
              "      <td>24.71</td>\n",
              "    </tr>\n",
              "  </tbody>\n",
              "</table>\n",
              "<p>99 rows × 11 columns</p>\n",
              "</div>\n",
              "    <div class=\"colab-df-buttons\">\n",
              "\n",
              "  <div class=\"colab-df-container\">\n",
              "    <button class=\"colab-df-convert\" onclick=\"convertToInteractive('df-eb3dd9c9-ef0a-47f5-a3ea-c530b954f3bb')\"\n",
              "            title=\"Convert this dataframe to an interactive table.\"\n",
              "            style=\"display:none;\">\n",
              "\n",
              "  <svg xmlns=\"http://www.w3.org/2000/svg\" height=\"24px\" viewBox=\"0 -960 960 960\">\n",
              "    <path d=\"M120-120v-720h720v720H120Zm60-500h600v-160H180v160Zm220 220h160v-160H400v160Zm0 220h160v-160H400v160ZM180-400h160v-160H180v160Zm440 0h160v-160H620v160ZM180-180h160v-160H180v160Zm440 0h160v-160H620v160Z\"/>\n",
              "  </svg>\n",
              "    </button>\n",
              "\n",
              "  <style>\n",
              "    .colab-df-container {\n",
              "      display:flex;\n",
              "      gap: 12px;\n",
              "    }\n",
              "\n",
              "    .colab-df-convert {\n",
              "      background-color: #E8F0FE;\n",
              "      border: none;\n",
              "      border-radius: 50%;\n",
              "      cursor: pointer;\n",
              "      display: none;\n",
              "      fill: #1967D2;\n",
              "      height: 32px;\n",
              "      padding: 0 0 0 0;\n",
              "      width: 32px;\n",
              "    }\n",
              "\n",
              "    .colab-df-convert:hover {\n",
              "      background-color: #E2EBFA;\n",
              "      box-shadow: 0px 1px 2px rgba(60, 64, 67, 0.3), 0px 1px 3px 1px rgba(60, 64, 67, 0.15);\n",
              "      fill: #174EA6;\n",
              "    }\n",
              "\n",
              "    .colab-df-buttons div {\n",
              "      margin-bottom: 4px;\n",
              "    }\n",
              "\n",
              "    [theme=dark] .colab-df-convert {\n",
              "      background-color: #3B4455;\n",
              "      fill: #D2E3FC;\n",
              "    }\n",
              "\n",
              "    [theme=dark] .colab-df-convert:hover {\n",
              "      background-color: #434B5C;\n",
              "      box-shadow: 0px 1px 3px 1px rgba(0, 0, 0, 0.15);\n",
              "      filter: drop-shadow(0px 1px 2px rgba(0, 0, 0, 0.3));\n",
              "      fill: #FFFFFF;\n",
              "    }\n",
              "  </style>\n",
              "\n",
              "    <script>\n",
              "      const buttonEl =\n",
              "        document.querySelector('#df-eb3dd9c9-ef0a-47f5-a3ea-c530b954f3bb button.colab-df-convert');\n",
              "      buttonEl.style.display =\n",
              "        google.colab.kernel.accessAllowed ? 'block' : 'none';\n",
              "\n",
              "      async function convertToInteractive(key) {\n",
              "        const element = document.querySelector('#df-eb3dd9c9-ef0a-47f5-a3ea-c530b954f3bb');\n",
              "        const dataTable =\n",
              "          await google.colab.kernel.invokeFunction('convertToInteractive',\n",
              "                                                    [key], {});\n",
              "        if (!dataTable) return;\n",
              "\n",
              "        const docLinkHtml = 'Like what you see? Visit the ' +\n",
              "          '<a target=\"_blank\" href=https://colab.research.google.com/notebooks/data_table.ipynb>data table notebook</a>'\n",
              "          + ' to learn more about interactive tables.';\n",
              "        element.innerHTML = '';\n",
              "        dataTable['output_type'] = 'display_data';\n",
              "        await google.colab.output.renderOutput(dataTable, element);\n",
              "        const docLink = document.createElement('div');\n",
              "        docLink.innerHTML = docLinkHtml;\n",
              "        element.appendChild(docLink);\n",
              "      }\n",
              "    </script>\n",
              "  </div>\n",
              "\n",
              "\n",
              "<div id=\"df-f206827c-7c65-421b-b6ec-5313fcdba67e\">\n",
              "  <button class=\"colab-df-quickchart\" onclick=\"quickchart('df-f206827c-7c65-421b-b6ec-5313fcdba67e')\"\n",
              "            title=\"Suggest charts\"\n",
              "            style=\"display:none;\">\n",
              "\n",
              "<svg xmlns=\"http://www.w3.org/2000/svg\" height=\"24px\"viewBox=\"0 0 24 24\"\n",
              "     width=\"24px\">\n",
              "    <g>\n",
              "        <path d=\"M19 3H5c-1.1 0-2 .9-2 2v14c0 1.1.9 2 2 2h14c1.1 0 2-.9 2-2V5c0-1.1-.9-2-2-2zM9 17H7v-7h2v7zm4 0h-2V7h2v10zm4 0h-2v-4h2v4z\"/>\n",
              "    </g>\n",
              "</svg>\n",
              "  </button>\n",
              "\n",
              "<style>\n",
              "  .colab-df-quickchart {\n",
              "      --bg-color: #E8F0FE;\n",
              "      --fill-color: #1967D2;\n",
              "      --hover-bg-color: #E2EBFA;\n",
              "      --hover-fill-color: #174EA6;\n",
              "      --disabled-fill-color: #AAA;\n",
              "      --disabled-bg-color: #DDD;\n",
              "  }\n",
              "\n",
              "  [theme=dark] .colab-df-quickchart {\n",
              "      --bg-color: #3B4455;\n",
              "      --fill-color: #D2E3FC;\n",
              "      --hover-bg-color: #434B5C;\n",
              "      --hover-fill-color: #FFFFFF;\n",
              "      --disabled-bg-color: #3B4455;\n",
              "      --disabled-fill-color: #666;\n",
              "  }\n",
              "\n",
              "  .colab-df-quickchart {\n",
              "    background-color: var(--bg-color);\n",
              "    border: none;\n",
              "    border-radius: 50%;\n",
              "    cursor: pointer;\n",
              "    display: none;\n",
              "    fill: var(--fill-color);\n",
              "    height: 32px;\n",
              "    padding: 0;\n",
              "    width: 32px;\n",
              "  }\n",
              "\n",
              "  .colab-df-quickchart:hover {\n",
              "    background-color: var(--hover-bg-color);\n",
              "    box-shadow: 0 1px 2px rgba(60, 64, 67, 0.3), 0 1px 3px 1px rgba(60, 64, 67, 0.15);\n",
              "    fill: var(--button-hover-fill-color);\n",
              "  }\n",
              "\n",
              "  .colab-df-quickchart-complete:disabled,\n",
              "  .colab-df-quickchart-complete:disabled:hover {\n",
              "    background-color: var(--disabled-bg-color);\n",
              "    fill: var(--disabled-fill-color);\n",
              "    box-shadow: none;\n",
              "  }\n",
              "\n",
              "  .colab-df-spinner {\n",
              "    border: 2px solid var(--fill-color);\n",
              "    border-color: transparent;\n",
              "    border-bottom-color: var(--fill-color);\n",
              "    animation:\n",
              "      spin 1s steps(1) infinite;\n",
              "  }\n",
              "\n",
              "  @keyframes spin {\n",
              "    0% {\n",
              "      border-color: transparent;\n",
              "      border-bottom-color: var(--fill-color);\n",
              "      border-left-color: var(--fill-color);\n",
              "    }\n",
              "    20% {\n",
              "      border-color: transparent;\n",
              "      border-left-color: var(--fill-color);\n",
              "      border-top-color: var(--fill-color);\n",
              "    }\n",
              "    30% {\n",
              "      border-color: transparent;\n",
              "      border-left-color: var(--fill-color);\n",
              "      border-top-color: var(--fill-color);\n",
              "      border-right-color: var(--fill-color);\n",
              "    }\n",
              "    40% {\n",
              "      border-color: transparent;\n",
              "      border-right-color: var(--fill-color);\n",
              "      border-top-color: var(--fill-color);\n",
              "    }\n",
              "    60% {\n",
              "      border-color: transparent;\n",
              "      border-right-color: var(--fill-color);\n",
              "    }\n",
              "    80% {\n",
              "      border-color: transparent;\n",
              "      border-right-color: var(--fill-color);\n",
              "      border-bottom-color: var(--fill-color);\n",
              "    }\n",
              "    90% {\n",
              "      border-color: transparent;\n",
              "      border-bottom-color: var(--fill-color);\n",
              "    }\n",
              "  }\n",
              "</style>\n",
              "\n",
              "  <script>\n",
              "    async function quickchart(key) {\n",
              "      const quickchartButtonEl =\n",
              "        document.querySelector('#' + key + ' button');\n",
              "      quickchartButtonEl.disabled = true;  // To prevent multiple clicks.\n",
              "      quickchartButtonEl.classList.add('colab-df-spinner');\n",
              "      try {\n",
              "        const charts = await google.colab.kernel.invokeFunction(\n",
              "            'suggestCharts', [key], {});\n",
              "      } catch (error) {\n",
              "        console.error('Error during call to suggestCharts:', error);\n",
              "      }\n",
              "      quickchartButtonEl.classList.remove('colab-df-spinner');\n",
              "      quickchartButtonEl.classList.add('colab-df-quickchart-complete');\n",
              "    }\n",
              "    (() => {\n",
              "      let quickchartButtonEl =\n",
              "        document.querySelector('#df-f206827c-7c65-421b-b6ec-5313fcdba67e button');\n",
              "      quickchartButtonEl.style.display =\n",
              "        google.colab.kernel.accessAllowed ? 'block' : 'none';\n",
              "    })();\n",
              "  </script>\n",
              "</div>\n",
              "    </div>\n",
              "  </div>\n"
            ]
          },
          "metadata": {},
          "execution_count": 52
        }
      ]
    },
    {
      "cell_type": "markdown",
      "source": [
        "Remove duplicate rows"
      ],
      "metadata": {
        "id": "j9NqXSojAvFM"
      }
    },
    {
      "cell_type": "code",
      "source": [
        "df = df.drop_duplicates()"
      ],
      "metadata": {
        "id": "z1SV7preA0LD"
      },
      "execution_count": 53,
      "outputs": []
    },
    {
      "cell_type": "code",
      "source": [
        "print(\"number of row after dropping duplicates\", len(df))\n",
        "print(df.head())"
      ],
      "metadata": {
        "colab": {
          "base_uri": "https://localhost:8080/"
        },
        "id": "0aksodhBA96B",
        "outputId": "ad8dc849-75b5-40bf-a02d-02794ede9543"
      },
      "execution_count": 54,
      "outputs": [
        {
          "output_type": "stream",
          "name": "stdout",
          "text": [
            "number of row after dropping duplicates 99\n",
            "        Date  TotalConfirmed  TotalDeaths  TotalRecovered  Active  New cases  \\\n",
            "0 2020-01-22             555           17              28     510          0   \n",
            "1 2020-01-23             654           18              30     606         99   \n",
            "2 2020-01-24             941           26              36     879        287   \n",
            "3 2020-01-25            1434           42              39    1353        493   \n",
            "4 2020-01-26            2118           56              52    2010        684   \n",
            "\n",
            "   New deaths  New recovered  DeathRate  RecoveryRate  MortalityRate  \n",
            "0           0              0       3.06          5.05          60.71  \n",
            "1           1              2       2.75          4.59          60.00  \n",
            "2           8              6       2.76          3.83          72.22  \n",
            "3          16              3       2.93          2.72         107.69  \n",
            "4          14             13       2.64          2.46         107.69  \n"
          ]
        }
      ]
    },
    {
      "cell_type": "markdown",
      "source": [
        "Deal with outliers"
      ],
      "metadata": {
        "id": "813Np_snCDDf"
      }
    },
    {
      "cell_type": "code",
      "source": [
        "df.mean().plot(kind='bar', figsize=(10, 6), title='Mean Values of COVID-19 Data Without Outliers')\n",
        "plt.xlabel('Data Categories')\n",
        "plt.ylabel('Mean Values')\n",
        "plt.xticks(rotation=45)\n",
        "plt.tight_layout()\n",
        "plt.show()\n"
      ],
      "metadata": {
        "colab": {
          "base_uri": "https://localhost:8080/",
          "height": 663
        },
        "id": "bYDSn0_aFPTi",
        "outputId": "9cbf3c09-70b0-493d-adba-7b56297fdf47"
      },
      "execution_count": 69,
      "outputs": [
        {
          "output_type": "stream",
          "name": "stderr",
          "text": [
            "<ipython-input-69-f64944651bb3>:1: FutureWarning: DataFrame.mean and DataFrame.median with numeric_only=None will include datetime64 and datetime64tz columns in a future version.\n",
            "  df.mean().plot(kind='bar', figsize=(10, 6), title='Mean Values of COVID-19 Data Without Outliers')\n"
          ]
        },
        {
          "output_type": "display_data",
          "data": {
            "text/plain": [
              "<Figure size 1000x600 with 1 Axes>"
            ],
            "image/png": "[encoded data removed]"
          },
          "metadata": {}
        }
      ]
    },
    {
      "cell_type": "markdown",
      "source": [
        "saving to new CSV file"
      ],
      "metadata": {
        "id": "SfKKNiJJGdnw"
      }
    },
    {
      "cell_type": "code",
      "source": [
        "df.to_csv(\"cleaned_dayWiseCovid.csv\", index=False)\n",
        "print(df.head())"
      ],
      "metadata": {
        "colab": {
          "base_uri": "https://localhost:8080/"
        },
        "id": "QiamdwjcGhad",
        "outputId": "ad939c6c-c1c8-4352-f7b9-a925f164b903"
      },
      "execution_count": 70,
      "outputs": [
        {
          "output_type": "stream",
          "name": "stdout",
          "text": [
            "        Date  TotalConfirmed  TotalDeaths  TotalRecovered  Active  New cases  \\\n",
            "0 2020-01-22             555           17              28     510          0   \n",
            "1 2020-01-23             654           18              30     606         99   \n",
            "2 2020-01-24             941           26              36     879        287   \n",
            "3 2020-01-25            1434           42              39    1353        493   \n",
            "4 2020-01-26            2118           56              52    2010        684   \n",
            "\n",
            "   New deaths  New recovered  DeathRate  RecoveryRate  MortalityRate  \n",
            "0           0              0       3.06          5.05          60.71  \n",
            "1           1              2       2.75          4.59          60.00  \n",
            "2           8              6       2.76          3.83          72.22  \n",
            "3          16              3       2.93          2.72         107.69  \n",
            "4          14             13       2.64          2.46         107.69  \n"
          ]
        }
      ]
    }
  ]
}